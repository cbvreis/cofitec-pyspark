{
 "cells": [
  {
   "cell_type": "code",
   "execution_count": 2,
   "id": "255f6f1a-90b5-4ed9-bd5b-df3b17ee1289",
   "metadata": {
    "pycharm": {
     "name": "#%%\n"
    }
   },
   "outputs": [],
   "source": [
    "from pyspark.sql import SparkSession\n",
    "spark = SparkSession.builder \\\n",
    "    .master('local') \\\n",
    "    .appName('myAppName') \\\n",
    "    .config('spark.executor.memory', '5gb') \\\n",
    "    .config(\"spark.cores.max\", \"6\") \\\n",
    "    .getOrCreate()\n"
   ]
  },
  {
   "cell_type": "code",
   "execution_count": 3,
   "outputs": [
    {
     "data": {
      "text/plain": "'/home/jovyan'"
     },
     "execution_count": 3,
     "metadata": {},
     "output_type": "execute_result"
    }
   ],
   "source": [
    "import os\n",
    "\n",
    "os.getcwd()"
   ],
   "metadata": {
    "collapsed": false,
    "pycharm": {
     "name": "#%%\n"
    }
   }
  },
  {
   "cell_type": "code",
   "execution_count": 4,
   "outputs": [],
   "source": [
    "df = spark.read.parquet('work/files/OriginaisNetflix - Python (1).parquet')\n"
   ],
   "metadata": {
    "collapsed": false,
    "pycharm": {
     "name": "#%%\n"
    }
   }
  },
  {
   "cell_type": "code",
   "execution_count": 5,
   "outputs": [
    {
     "data": {
      "text/plain": "Row(Title='House of Cards', Genre='Political drama', GenreLabels='political,drama', Premiere='1-Feb-13', Seasons='6 seasons, 73 episodes', SeasonsParsed=6, EpisodesParsed=73, Length='42–59 min.', MinLength=42, MaxLength=59, Status='Ended', Active=0, Table='Drama', Language='English', dt_inclusao='2021-03-16T21:20:24.167-03:00')"
     },
     "execution_count": 5,
     "metadata": {},
     "output_type": "execute_result"
    }
   ],
   "source": [
    "df.head()"
   ],
   "metadata": {
    "collapsed": false,
    "pycharm": {
     "name": "#%%\n"
    }
   }
  },
  {
   "cell_type": "code",
   "execution_count": 6,
   "outputs": [
    {
     "ename": "NameError",
     "evalue": "name 'col' is not defined",
     "output_type": "error",
     "traceback": [
      "\u001B[0;31m\u001B[0m",
      "\u001B[0;31mNameError\u001B[0mTraceback (most recent call last)",
      "Input \u001B[0;32mIn [6]\u001B[0m, in \u001B[0;36m<cell line: 2>\u001B[0;34m()\u001B[0m\n\u001B[1;32m      1\u001B[0m \u001B[38;5;66;03m#Transform columns [\"Premiere\" ,\"dt_inclusao\"] to timestamp\u001B[39;00m\n\u001B[0;32m----> 2\u001B[0m df \u001B[38;5;241m=\u001B[39m df\u001B[38;5;241m.\u001B[39mwithColumn(\u001B[38;5;124m\"\u001B[39m\u001B[38;5;124mPremiere\u001B[39m\u001B[38;5;124m\"\u001B[39m, (\u001B[43mcol\u001B[49m(\u001B[38;5;124m\"\u001B[39m\u001B[38;5;124mPremiere\u001B[39m\u001B[38;5;124m\"\u001B[39m)\u001B[38;5;241m.\u001B[39mcast(\u001B[38;5;124m\"\u001B[39m\u001B[38;5;124mtimestamp\u001B[39m\u001B[38;5;124m\"\u001B[39m)))\n\u001B[1;32m      3\u001B[0m df\u001B[38;5;241m=\u001B[39m  df\u001B[38;5;241m.\u001B[39mwithColumn(\u001B[38;5;124m\"\u001B[39m\u001B[38;5;124mdt_inclusao\u001B[39m\u001B[38;5;124m\"\u001B[39m, (col(\u001B[38;5;124m\"\u001B[39m\u001B[38;5;124mdt_inclusao\u001B[39m\u001B[38;5;124m\"\u001B[39m)\u001B[38;5;241m.\u001B[39mcast(\u001B[38;5;124m\"\u001B[39m\u001B[38;5;124mtimestamp\u001B[39m\u001B[38;5;124m\"\u001B[39m)))\n",
      "\u001B[0;31mNameError\u001B[0m: name 'col' is not defined"
     ]
    }
   ],
   "source": [
    "#Transform columns [\"Premiere\" ,\"dt_inclusao\"] to timestamp\n",
    "df = df.withColumn(\"Premiere\", (col(\"Premiere\").cast(\"timestamp\")))\n",
    "df=  df.withColumn(\"dt_inclusao\", (col(\"dt_inclusao\").cast(\"timestamp\")))"
   ],
   "metadata": {
    "collapsed": false,
    "pycharm": {
     "name": "#%%\n"
    }
   }
  },
  {
   "cell_type": "code",
   "execution_count": null,
   "outputs": [],
   "source": [
    "df.printSchema()"
   ],
   "metadata": {
    "collapsed": false,
    "pycharm": {
     "name": "#%%\n"
    }
   }
  },
  {
   "cell_type": "code",
   "execution_count": null,
   "outputs": [],
   "source": [
    "#Ordenar os dados por ativos e gênero de forma decrescente, 0 = inativo e 1 = ativo, todos com número 1 devem aparecer primeiro.\n",
    "df= df.sort(col(\"Active\").desc(),col(\"Genre\").desc())"
   ],
   "metadata": {
    "collapsed": false,
    "pycharm": {
     "name": "#%%\n"
    }
   }
  },
  {
   "cell_type": "code",
   "execution_count": null,
   "outputs": [],
   "source": [
    "df.show()"
   ],
   "metadata": {
    "collapsed": false,
    "pycharm": {
     "name": "#%%\n"
    }
   }
  },
  {
   "cell_type": "code",
   "execution_count": null,
   "outputs": [],
   "source": [
    "#Remover linhas duplicadas e trocar o resultado das linhas que tiverem a coluna \"Seasons\" de \"TBA\" para \"a ser anunciado\".\n",
    "from pyspark.sql.functions import when, col\n",
    "\n",
    "#print shape dataframe\n",
    "print(f'Dataframe before drop duplicates: {df.toPandas().shape}')\n",
    "df = df.dropDuplicates()\n",
    "print(f'Dataframe after drop duplicates {df.toPandas().shape}')\n",
    "df = df.withColumn(\"Seasons\", when(col(\"Seasons\") == \"TBA\", \"a ser anunciado\").otherwise(col(\"Seasons\")))\n",
    "print(f'Number rows \"A ser anunciado:\" {df.filter(col(\"Seasons\") == \"a ser anunciado\").count()}')"
   ],
   "metadata": {
    "collapsed": false,
    "pycharm": {
     "name": "#%%\n"
    }
   }
  },
  {
   "cell_type": "code",
   "execution_count": null,
   "outputs": [],
   "source": [
    "df.show()"
   ],
   "metadata": {
    "collapsed": false,
    "pycharm": {
     "name": "#%%\n"
    }
   }
  },
  {
   "cell_type": "code",
   "execution_count": null,
   "outputs": [],
   "source": [
    "df.count()"
   ],
   "metadata": {
    "collapsed": false,
    "pycharm": {
     "name": "#%%\n"
    }
   }
  },
  {
   "cell_type": "code",
   "execution_count": null,
   "outputs": [],
   "source": [
    "# Criar uma coluna nova chamada \"Data de Alteração\" e dentro dela um timestamp.\n",
    "df = df.withColumn(\"Data de Alteração\", (col(\"dt_inclusao\").cast(\"timestamp\")))"
   ],
   "metadata": {
    "collapsed": false,
    "pycharm": {
     "name": "#%%\n"
    }
   }
  },
  {
   "cell_type": "code",
   "execution_count": null,
   "outputs": [],
   "source": [
    "df.printSchema()"
   ],
   "metadata": {
    "collapsed": false,
    "pycharm": {
     "name": "#%%\n"
    }
   }
  },
  {
   "cell_type": "code",
   "execution_count": null,
   "outputs": [],
   "source": [
    "#Trocar os nomes das colunas de inglês para português, exemplo: \"Title\" para \"Título\" (com acentuação).\n",
    "# columns : ['Título',  'Gênero',  'GenreLabels',  'Premiere',  'Seasons',  'SeasonsParsed',  'EpisodesParsed',  'Length',  'MinLength',  'MaxLength',  'Status',  'Active',  'Table',  'Language',  'dt_inclusao',  'Data de Alteração']\n",
    "df = df.withColumnRenamed(\"Title\", \"Título\")\n",
    "df = df.withColumnRenamed(\"Genre\", \"Gênero\")\n",
    "df = df.withColumnRenamed(\"GenreLabels\", \"Labels de Gênero\")\n",
    "df = df.withColumnRenamed(\"Premiere\", \"Data de Lançamento\")\n",
    "df = df.withColumnRenamed(\"Seasons\", \"Temporada\")\n",
    "df = df.withColumnRenamed(\"SeasonsParsed\", \"Temporadas Parsadas\")\n",
    "df = df.withColumnRenamed(\"EpisodesParsed\", \"Episódios Parsados\")\n",
    "df = df.withColumnRenamed(\"Length\", \"Duração\")\n",
    "df = df.withColumnRenamed(\"MinLength\", \"Duração Mínima\")\n",
    "df = df.withColumnRenamed(\"MaxLength\", \"Duração Máxima\")\n",
    "df = df.withColumnRenamed(\"Status\", \"Status\")\n",
    "df = df.withColumnRenamed(\"Active\", \"Ativo\")\n",
    "df = df.withColumnRenamed(\"Table\", \"Tabela\")\n",
    "df = df.withColumnRenamed(\"Language\", \"Idioma\")\n",
    "df = df.withColumnRenamed(\"dt_inclusao\", \"Data de Inclusão\")\n",
    "\n",
    "\n"
   ],
   "metadata": {
    "collapsed": false,
    "pycharm": {
     "name": "#%%\n"
    }
   }
  },
  {
   "cell_type": "code",
   "execution_count": null,
   "outputs": [],
   "source": [
    "df.printSchema()"
   ],
   "metadata": {
    "collapsed": false,
    "pycharm": {
     "name": "#%%\n"
    }
   }
  },
  {
   "cell_type": "code",
   "execution_count": null,
   "outputs": [],
   "source": [
    "#Criar apenas 1 .csv com as seguintes colunas que foram nomeadas anteriormente \"Title, Genre, Seasons, Premiere, Language, Active, Status, dt_inclusao, Data de Alteração\" as colunas devem estar em português com header e separadas por \";\".\n",
    "df.toPandas().to_csv('work/files/Netflix - Python (1).csv', sep=';', encoding='utf-8', index=False)"
   ],
   "metadata": {
    "collapsed": false,
    "pycharm": {
     "name": "#%%\n"
    }
   }
  },
  {
   "cell_type": "code",
   "execution_count": 9,
   "outputs": [
    {
     "ename": "ModuleNotFoundError",
     "evalue": "No module named 'boto3'",
     "output_type": "error",
     "traceback": [
      "\u001B[0;31m\u001B[0m",
      "\u001B[0;31mModuleNotFoundError\u001B[0mTraceback (most recent call last)",
      "Input \u001B[0;32mIn [9]\u001B[0m, in \u001B[0;36m<cell line: 1>\u001B[0;34m()\u001B[0m\n\u001B[0;32m----> 1\u001B[0m \u001B[38;5;28;01mimport\u001B[39;00m \u001B[38;5;21;01mboto3\u001B[39;00m\n\u001B[1;32m      3\u001B[0m session \u001B[38;5;241m=\u001B[39m boto3\u001B[38;5;241m.\u001B[39mSession(\n\u001B[1;32m      4\u001B[0m     aws_access_key_id\u001B[38;5;241m=\u001B[39m\u001B[38;5;124m'\u001B[39m\u001B[38;5;124mAWS_ACCESS_KEY_ID\u001B[39m\u001B[38;5;124m'\u001B[39m,\n\u001B[1;32m      5\u001B[0m     aws_secret_access_key\u001B[38;5;241m=\u001B[39m\u001B[38;5;124m'\u001B[39m\u001B[38;5;124mAWS_SECRET_ACCESS_KEY\u001B[39m\u001B[38;5;124m'\u001B[39m,\n\u001B[1;32m      6\u001B[0m )\n\u001B[1;32m      7\u001B[0m s3 \u001B[38;5;241m=\u001B[39m session\u001B[38;5;241m.\u001B[39mresource(\u001B[38;5;124m'\u001B[39m\u001B[38;5;124ms3\u001B[39m\u001B[38;5;124m'\u001B[39m)\n",
      "\u001B[0;31mModuleNotFoundError\u001B[0m: No module named 'boto3'"
     ]
    }
   ],
   "source": [
    "import boto3\n",
    "\n",
    "session = boto3.Session(\n",
    "    aws_access_key_id='AWS_ACCESS_KEY_ID',\n",
    "    aws_secret_access_key='AWS_SECRET_ACCESS_KEY',\n",
    ")\n",
    "s3 = session.resource('s3')\n",
    "# Filename - File to upload\n",
    "# Bucket - Bucket to upload to (the top level directory under AWS S3)\n",
    "# Key - S3 object name (can contain subdirectories). If not specified then file_name is used\n",
    "s3.meta.client.upload_file(Filename='work/files/Netflix - Python (1).csv', Bucket='confitec_prova', Key='s3_output_key')"
   ],
   "metadata": {
    "collapsed": false,
    "pycharm": {
     "name": "#%%\n"
    }
   }
  },
  {
   "cell_type": "code",
   "execution_count": null,
   "outputs": [],
   "source": [],
   "metadata": {
    "collapsed": false,
    "pycharm": {
     "name": "#%%\n"
    }
   }
  }
 ],
 "metadata": {
  "kernelspec": {
   "display_name": "Python 3 (ipykernel)",
   "language": "python",
   "name": "python3"
  },
  "language_info": {
   "codemirror_mode": {
    "name": "ipython",
    "version": 3
   },
   "file_extension": ".py",
   "mimetype": "text/x-python",
   "name": "python",
   "nbconvert_exporter": "python",
   "pygments_lexer": "ipython3",
   "version": "3.10.5"
  }
 },
 "nbformat": 4,
 "nbformat_minor": 5
}